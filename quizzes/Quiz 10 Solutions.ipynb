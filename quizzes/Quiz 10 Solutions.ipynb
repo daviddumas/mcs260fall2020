{
 "cells": [
  {
   "cell_type": "code",
   "execution_count": 5,
   "metadata": {},
   "outputs": [],
   "source": [
    "# Quiz 10 Question 1 solution\n",
    "\n",
    "class IntegerList(list):\n",
    "    \"\"\"List that only allows integers\"\"\"\n",
    "    def __setitem__(self,idx,val):\n",
    "        \"\"\"Check if val is an integer; if so, store it.  If not,\n",
    "        raise a ValueError.\n",
    "        \"\"\"\n",
    "        if not isinstance(val,int):\n",
    "            raise ValueError(\"Can only store integers in an IntegerList\")\n",
    "\n",
    "        # Have the built-in class `list` handle the actual setting\n",
    "        super().__setitem__(idx,val)\n",
    "\n",
    "    def append(self,val):\n",
    "        \"\"\"Append if val is an integer\"\"\"\n",
    "        if not isinstance(val,int):\n",
    "            raise ValueError(\"can only store integers in an IntegerList\")\n",
    "        super().append(val)"
   ]
  },
  {
   "cell_type": "code",
   "execution_count": 3,
   "metadata": {},
   "outputs": [],
   "source": [
    "# Quiz 10 Question 2 solution\n",
    "\n",
    "def reverse_recursive(s):\n",
    "    ''' Reverse a string using recursion '''\n",
    "    if len(s) == 0:\n",
    "        return s\n",
    "    else:\n",
    "        # Put the first character at the end, reverse the rest\n",
    "        return reverse_recursive(s[1:]) + s[0]"
   ]
  }
 ],
 "metadata": {
  "kernelspec": {
   "display_name": "Python 3",
   "language": "python",
   "name": "python3"
  },
  "language_info": {
   "codemirror_mode": {
    "name": "ipython",
    "version": 3
   },
   "file_extension": ".py",
   "mimetype": "text/x-python",
   "name": "python",
   "nbconvert_exporter": "python",
   "pygments_lexer": "ipython3",
   "version": "3.6.9"
  }
 },
 "nbformat": 4,
 "nbformat_minor": 4
}
