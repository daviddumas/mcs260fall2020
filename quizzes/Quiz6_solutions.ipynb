{
 "cells": [
  {
   "cell_type": "code",
   "execution_count": 2,
   "metadata": {},
   "outputs": [],
   "source": [
    "# Quiz 6 Q1 Example Solution\n",
    "def ymd(s):\n",
    "    \"\"\"Transforms dates of string format 'Month day, year' to numeric format Year-Month-Day\n",
    "    The later format has 4 digits for the year and 2 for the month and day\"\"\" \n",
    "    \n",
    "    # Split on comma for month+day and year\n",
    "    monthday_str,year_str = s.split(\",\")\n",
    "    \n",
    "    # Split month+day into month and day strings\n",
    "    month_name, day_str = monthday_str.split(\" \")\n",
    "    \n",
    "    # convert month and day strings to integers\n",
    "    day = int(day_str)\n",
    "    year = int(year_str)\n",
    "\n",
    "    # list of months\n",
    "    months = [ \"january\", \"february\", \"march\", \"april\", \"may\", \"june\", \n",
    "               \"july\", \"august\", \"september\", \"october\", \"november\", \"december\" ]\n",
    "    \n",
    "    # location of month_name.lower() in months will be the 0-based month number\n",
    "    # but we want the 1-based month number\n",
    "    month = months.index(month_name.lower()) + 1\n",
    "    \n",
    "    return \"{:04d}-{:02d}-{:02d}\".format(year,month,day)"
   ]
  },
  {
   "cell_type": "code",
   "execution_count": 35,
   "metadata": {},
   "outputs": [],
   "source": [
    "# Quiz 6 Q2 Example Solution\n",
    "def sumvals(f,L):\n",
    "    \"\"\"Applies function f to each value in L and return sum\"\"\"\n",
    "    return sum([f(x) for x in L])"
   ]
  },
  {
   "cell_type": "code",
   "execution_count": null,
   "metadata": {},
   "outputs": [],
   "source": [
    "# Quiz 6 Q3 Example Solution\n",
    "import sys\n",
    "\"\"\"Reads a file given by sys.arg[1], writes the \n",
    "line of longest length to another file given by sys.arg[2].\n",
    "In the event of ties, the last line is chosen\"\"\"\n",
    "inputFile = open(sys.argv[1],'w')\n",
    "outputFile = open(sys.argv[2], 'w')\n",
    "max_line = 0\n",
    "lineText = \"\"\n",
    "for line in inputFile:\n",
    "    if len(line) >= max_line:\n",
    "        max_line = len(line)\n",
    "        lineText = line\n",
    "outputFile.write(line)"
   ]
  },
  {
   "cell_type": "code",
   "execution_count": null,
   "metadata": {},
   "outputs": [],
   "source": []
  }
 ],
 "metadata": {
  "kernelspec": {
   "display_name": "Python 3",
   "language": "python",
   "name": "python3"
  },
  "language_info": {
   "codemirror_mode": {
    "name": "ipython",
    "version": 3
   },
   "file_extension": ".py",
   "mimetype": "text/x-python",
   "name": "python",
   "nbconvert_exporter": "python",
   "pygments_lexer": "ipython3",
   "version": "3.8.5"
  }
 },
 "nbformat": 4,
 "nbformat_minor": 2
}
