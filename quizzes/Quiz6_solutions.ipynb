{
 "cells": [
  {
   "cell_type": "code",
   "execution_count": 31,
   "metadata": {},
   "outputs": [],
   "source": [
    "# Quiz 6 Q1 Example Solution\n",
    "def ymd(s):\n",
    "    \"\"\"Transforms dates of string format 'Month day, year' to numeric format Year-Month-Day\n",
    "    The later format has 4 digits for the year and 2 for the month and day\"\"\" \n",
    "    t = s.split(\",\")\n",
    "    \n",
    "    # Extracts month,day,year values from string\n",
    "    month = t[0].split(\" \")[0].lower()\n",
    "    day = t[0].split(\" \")[1]\n",
    "    if len(day) == 1:\n",
    "        day = '0' + day\n",
    "    \n",
    "    year = t[1].lstrip()\n",
    "    # Dictionary translates month names (keys) to numeric equivalent (values\n",
    "    yearDict = {\"january\": '01', 'february': '02', 'march' : '03', 'april' : '04', 'may' : '05',\n",
    "               'june' : '06', 'july': '07', 'august': '08', 'september': '09', 'october': '10',\n",
    "                'november': '11', 'december': '12'}\n",
    "    \n",
    "    monthVal = yearDict.get(month)\n",
    "    date = \"{}-{}-{}\"\n",
    "    date = date.format(year,monthVal,day)\n",
    "    return date"
   ]
  },
  {
   "cell_type": "code",
   "execution_count": 35,
   "metadata": {},
   "outputs": [],
   "source": [
    "# Quiz 6 Q2 Example Solution\n",
    "def sumvals(f,L):\n",
    "    \"\"\"Applies function f to each value in List, and returns sum\"\"\"\n",
    "    return sum([f(x) for x in L])"
   ]
  },
  {
   "cell_type": "code",
   "execution_count": 40,
   "metadata": {},
   "outputs": [
    {
     "ename": "FileExistsError",
     "evalue": "[Errno 17] File exists: '/Users/kv/Library/Jupyter/runtime/kernel-b96c92f4-68d5-4bd9-b8ca-77bc89103f6b.json'",
     "output_type": "error",
     "traceback": [
      "\u001b[0;31m---------------------------------------------------------------------------\u001b[0m",
      "\u001b[0;31mFileExistsError\u001b[0m                           Traceback (most recent call last)",
      "\u001b[0;32m<ipython-input-40-5fb378eb3ccf>\u001b[0m in \u001b[0;36m<module>\u001b[0;34m\u001b[0m\n\u001b[1;32m      3\u001b[0m \u001b[0;34m\u001b[0m\u001b[0m\n\u001b[1;32m      4\u001b[0m \u001b[0minputFile\u001b[0m \u001b[0;34m=\u001b[0m \u001b[0mopen\u001b[0m\u001b[0;34m(\u001b[0m\u001b[0msys\u001b[0m\u001b[0;34m.\u001b[0m\u001b[0margv\u001b[0m\u001b[0;34m[\u001b[0m\u001b[0;36m1\u001b[0m\u001b[0;34m]\u001b[0m\u001b[0;34m,\u001b[0m\u001b[0;34m'w'\u001b[0m\u001b[0;34m)\u001b[0m\u001b[0;34m\u001b[0m\u001b[0;34m\u001b[0m\u001b[0m\n\u001b[0;32m----> 5\u001b[0;31m \u001b[0moutputFile\u001b[0m \u001b[0;34m=\u001b[0m \u001b[0mopen\u001b[0m\u001b[0;34m(\u001b[0m\u001b[0msys\u001b[0m\u001b[0;34m.\u001b[0m\u001b[0margv\u001b[0m\u001b[0;34m[\u001b[0m\u001b[0;36m2\u001b[0m\u001b[0;34m]\u001b[0m\u001b[0;34m,\u001b[0m \u001b[0;34m'x'\u001b[0m\u001b[0;34m)\u001b[0m\u001b[0;34m\u001b[0m\u001b[0;34m\u001b[0m\u001b[0m\n\u001b[0m\u001b[1;32m      6\u001b[0m \u001b[0mmax_line\u001b[0m \u001b[0;34m=\u001b[0m \u001b[0;36m0\u001b[0m\u001b[0;34m\u001b[0m\u001b[0;34m\u001b[0m\u001b[0m\n\u001b[1;32m      7\u001b[0m \u001b[0mlineText\u001b[0m \u001b[0;34m=\u001b[0m \u001b[0;34m\"\"\u001b[0m\u001b[0;34m\u001b[0m\u001b[0;34m\u001b[0m\u001b[0m\n",
      "\u001b[0;31mFileExistsError\u001b[0m: [Errno 17] File exists: '/Users/kv/Library/Jupyter/runtime/kernel-b96c92f4-68d5-4bd9-b8ca-77bc89103f6b.json'"
     ]
    }
   ],
   "source": [
    "# Quiz 6 Q3 Example Solution\n",
    "import sys\n",
    "\"\"\"Reads a file given by sys.arg[1], writes the \n",
    "line of longest length to another file given by sys.arg[2].\n",
    "In the event of ties, the last line is chosen\"\"\"\n",
    "inputFile = open(sys.argv[1],'w')\n",
    "outputFile = open(sys.argv[2], 'w')\n",
    "max_line = 0\n",
    "lineText = \"\"\n",
    "for line in inputFile:\n",
    "    if len(line) >= max_line:\n",
    "        max_line = len(line)\n",
    "        lineText = line\n",
    "outputFile.write(line)"
   ]
  },
  {
   "cell_type": "code",
   "execution_count": null,
   "metadata": {},
   "outputs": [],
   "source": []
  }
 ],
 "metadata": {
  "kernelspec": {
   "display_name": "Python 3",
   "language": "python",
   "name": "python3"
  },
  "language_info": {
   "codemirror_mode": {
    "name": "ipython",
    "version": 3
   },
   "file_extension": ".py",
   "mimetype": "text/x-python",
   "name": "python",
   "nbconvert_exporter": "python",
   "pygments_lexer": "ipython3",
   "version": "3.7.4"
  }
 },
 "nbformat": 4,
 "nbformat_minor": 2
}
