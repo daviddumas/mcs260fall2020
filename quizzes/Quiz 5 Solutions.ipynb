{
 "cells": [
  {
   "cell_type": "markdown",
   "metadata": {},
   "source": [
    "Problem 2: Spell Check\n",
    "\n",
    "Write a function `spell_check(words, text)` that takes two arguments:\n",
    "* `words` : A list of lowercase words (strings) that it should recognize as correctly spelled\n",
    "* `text` : A string containing text to be checked for spelling\n",
    "\n",
    "This function should split `text` into words, convert each one to lower case, and then identify which words are not in the list `words` (i.e. the misspelled ones).  The function should return a list of all the misspelled words, in the order they appear in the text.\n",
    "\n",
    "When splitting `text` into words, you must consider whitespace and any of the following punctuation characters as word separators:\n",
    "```\n",
    "-;:,.?!\n",
    "```\n",
    "\n",
    "Here is an example of how you might test this function.  The last two lines should each evaluate to True.\n",
    "\n",
    "```python\n",
    "words = [\"i\",\"the\",\"it\",\"a\",\"time\",\"times\",\"was\",\"as\",\n",
    " \"best\",\"worst\",\"take\",\"of\",\"off\",\"point\",\"points\",\n",
    " \"for\",\"that\",\"yes\",\"no\",\"maybe\",\"banana\",\"error\",\"won't\"]\n",
    "\n",
    "spell_check(words,\n",
    " \"It was the best of times, it was the blurst of times\") == [\"blurst\"]\n",
    "spell_check(words,\n",
    " \"No---I won't take offf points for that eror.\") == [\"offf\",\"eror\"]\n",
    "```\n",
    "\n",
    "Remember that every function you write requires a docstring."
   ]
  },
  {
   "cell_type": "code",
   "execution_count": 10,
   "metadata": {},
   "outputs": [],
   "source": [
    "def spell_check(words, text):\n",
    "    '''Takes a list of words and a string, and returns a list of words from the string that\n",
    "    were misspelled, i.e. not in the input words'''\n",
    "\n",
    "    # First, create clean_text, a lowercase version of text delimited only by whitespace. \n",
    "    clean_text = \"\"\n",
    "    for c in text.lower():\n",
    "        if c in \"-;:,.?!\":\n",
    "            clean_text += \" \"\n",
    "        else:\n",
    "            clean_text += c\n",
    "    \n",
    "    # Then, split clean_text into a list of words...\n",
    "    words_text = clean_text.split()\n",
    "    \n",
    "    # ...and check if each word is in the original parameter list 'words'\n",
    "    words_misspelled = [w for w in words_text if w not in words]\n",
    "    \n",
    "    return words_misspelled"
   ]
  },
  {
   "cell_type": "code",
   "execution_count": 11,
   "metadata": {},
   "outputs": [
    {
     "name": "stdout",
     "output_type": "stream",
     "text": [
      "['blurst']\n",
      "['offf', 'eror']\n"
     ]
    }
   ],
   "source": [
    "words = [\"i\",\"the\",\"it\",\"a\",\"time\",\"times\",\"was\",\"as\",\n",
    " \"best\",\"worst\",\"take\",\"of\",\"off\",\"point\",\"points\",\n",
    " \"for\",\"that\",\"yes\",\"no\",\"maybe\",\"banana\",\"error\",\"won't\"]\n",
    "\n",
    "print(spell_check(words,\n",
    " \"It was the best of times, it was the blurst of times\"))\n",
    "print(spell_check(words,\n",
    " \"No---I won't take offf points for that eror.\"))"
   ]
  },
  {
   "cell_type": "markdown",
   "metadata": {},
   "source": [
    "Question 3: Nice int list print\n",
    "\n",
    "Write a function `nice_int_list_print(L)` that takes a list `L` of integers and prints them in a format like this:\n",
    "```text\n",
    ">>> nice_int_list_print([1,2,3,4])\n",
    "1, 2, 3, and 4\n",
    "```\n",
    "Specifically, the integers should all be printed on one line, separated by a comma and one space, and the word \"and\" should added before the last integer.\n",
    "\n",
    "Remember that every function you write requires a docstring."
   ]
  },
  {
   "cell_type": "code",
   "execution_count": 12,
   "metadata": {},
   "outputs": [],
   "source": [
    "def nice_int_list_print(L):\n",
    "    '''Given a list of ints, prints a string containing the elements in the list with 'nice' formatting\n",
    "    e.g. nice_int_list_print([1,2,3]) prints \"1, 2, and 3\" '''\n",
    "    M = [str(i) for i in L[:-1]]\n",
    "    \n",
    "    # join the int-strings with desired formatting\n",
    "    s = \", \".join(M) + \", and \" + str(L[-1]) \n",
    "    \n",
    "    print(s)"
   ]
  },
  {
   "cell_type": "code",
   "execution_count": 13,
   "metadata": {},
   "outputs": [
    {
     "name": "stdout",
     "output_type": "stream",
     "text": [
      "1, 2, 3, and 4\n"
     ]
    }
   ],
   "source": [
    "nice_int_list_print([1,2,3,4])"
   ]
  },
  {
   "cell_type": "markdown",
   "metadata": {},
   "source": [
    "Problem 4: Random addresses\n",
    "\n",
    "Write a script that takes one command line argument, an integer `N`, and then prints `N` random street addresses.  Each address should consist of:\n",
    "* A three-digit number (between 100 and 999)\n",
    "* A street name, selected at random from the list\n",
    "`[\"Hawthorne\", \"Cobbler\", \"Conch\", \"Baker\", \"Maple\", \"Drury\"]`\n",
    "* A street type name, selected at random from the lis\n",
    "`[\"Street\", \"Lane\", \"Place\", \"Boulevard\", \"Drive\"]`\n",
    "\n",
    "For example, if the script name is `random_addresses.py` and the command line is\n",
    "```bash\n",
    "python random_addresses.py 5\n",
    "```\n",
    "then the output might be:\n",
    "```text\n",
    "678 Cobbler Boulevard\n",
    "815 Conch Drive\n",
    "234 Drury Boulevard\n",
    "999 Hawthorne Street\n",
    "656 Conch Lane\n",
    "\n",
    "```\n",
    "\n",
    "Remember that scripts require file- and function-level docstrings."
   ]
  },
  {
   "cell_type": "code",
   "execution_count": 14,
   "metadata": {},
   "outputs": [
    {
     "ename": "ValueError",
     "evalue": "invalid literal for int() with base 10: '-f'",
     "output_type": "error",
     "traceback": [
      "\u001b[1;31m-----------------------------------------------------------------\u001b[0m",
      "\u001b[1;31mValueError\u001b[0m                      Traceback (most recent call last)",
      "\u001b[1;32m<ipython-input-14-86accbb170d9>\u001b[0m in \u001b[0;36m<module>\u001b[1;34m\u001b[0m\n\u001b[0;32m      7\u001b[0m \u001b[1;33m\u001b[0m\u001b[0m\n\u001b[0;32m      8\u001b[0m \u001b[1;31m# This line has an error when run here, but would run in a script with a command-line arg\u001b[0m\u001b[1;33m\u001b[0m\u001b[1;33m\u001b[0m\u001b[1;33m\u001b[0m\u001b[0m\n\u001b[1;32m----> 9\u001b[1;33m \u001b[0mn\u001b[0m \u001b[1;33m=\u001b[0m \u001b[0mint\u001b[0m\u001b[1;33m(\u001b[0m\u001b[0msys\u001b[0m\u001b[1;33m.\u001b[0m\u001b[0margv\u001b[0m\u001b[1;33m[\u001b[0m\u001b[1;36m1\u001b[0m\u001b[1;33m]\u001b[0m\u001b[1;33m)\u001b[0m\u001b[1;33m\u001b[0m\u001b[1;33m\u001b[0m\u001b[0m\n\u001b[0m\u001b[0;32m     10\u001b[0m \u001b[1;33m\u001b[0m\u001b[0m\n\u001b[0;32m     11\u001b[0m \u001b[0mnames\u001b[0m \u001b[1;33m=\u001b[0m \u001b[1;33m[\u001b[0m\u001b[1;34m\"Hawthorne\"\u001b[0m\u001b[1;33m,\u001b[0m \u001b[1;34m\"Cobbler\"\u001b[0m\u001b[1;33m,\u001b[0m \u001b[1;34m\"Conch\"\u001b[0m\u001b[1;33m,\u001b[0m \u001b[1;34m\"Baker\"\u001b[0m\u001b[1;33m,\u001b[0m \u001b[1;34m\"Maple\"\u001b[0m\u001b[1;33m,\u001b[0m \u001b[1;34m\"Drury\"\u001b[0m\u001b[1;33m]\u001b[0m\u001b[1;33m\u001b[0m\u001b[1;33m\u001b[0m\u001b[0m\n",
      "\u001b[1;31mValueError\u001b[0m: invalid literal for int() with base 10: '-f'"
     ]
    }
   ],
   "source": [
    "'''This script takes in a command argument n and prints out n randomly generated street addresses\n",
    "using a number in 100-99 and a pre-defined list of street names and road type names'''\n",
    "# J. Vaccaro\n",
    "\n",
    "import sys\n",
    "import random\n",
    "\n",
    "# This line has an error when run here, but would run in a script with a command-line arg\n",
    "n = int(sys.argv[1]) \n",
    "\n",
    "names = [\"Hawthorne\", \"Cobbler\", \"Conch\", \"Baker\", \"Maple\", \"Drury\"]\n",
    "roads = [\"Street\", \"Lane\", \"Place\", \"Boulevard\", \"Drive\"]\n",
    "\n",
    "for i in range(n):\n",
    "    num = random.randint(100,999)\n",
    "    name = random.choice(names)\n",
    "    road = random.choice(roads)\n",
    "    print(num,name,road)"
   ]
  },
  {
   "cell_type": "code",
   "execution_count": null,
   "metadata": {},
   "outputs": [],
   "source": []
  }
 ],
 "metadata": {
  "kernelspec": {
   "display_name": "Python 3",
   "language": "python",
   "name": "python3"
  },
  "language_info": {
   "codemirror_mode": {
    "name": "ipython",
    "version": 3
   },
   "file_extension": ".py",
   "mimetype": "text/x-python",
   "name": "python",
   "nbconvert_exporter": "python",
   "pygments_lexer": "ipython3",
   "version": "3.8.5"
  }
 },
 "nbformat": 4,
 "nbformat_minor": 4
}
