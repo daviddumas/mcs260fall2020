{
 "cells": [
  {
   "cell_type": "markdown",
   "metadata": {},
   "source": [
    "# Problem 1"
   ]
  },
  {
   "cell_type": "markdown",
   "metadata": {},
   "source": [
    "Write a function `ymd(s)` that takes one argument, a string `s` containing a date formatted like\n",
    "\n",
    "```\n",
    "October 5, 2020\n",
    "```\n",
    "\n",
    "(that is, month name, space, day of month, comma, space, 4-digit year) and returns a string containing the same date formatted as year-month-day, e.g.\n",
    "```\n",
    "2020-10-05\n",
    "```\n",
    "\n",
    "Notice that your solution to this problem shouldn't print anything; instead it should be a function that returns a string value.\n",
    "\n",
    "**Use `str.format` to perform the necessary string conversions.**\n",
    "\n",
    "Here are some test cases that should all evaluate to True:"
   ]
  },
  {
   "cell_type": "code",
   "execution_count": null,
   "metadata": {},
   "outputs": [],
   "source": [
    "ymd(\"October 5, 2020\") == \"2020-10-05\""
   ]
  },
  {
   "cell_type": "code",
   "execution_count": null,
   "metadata": {},
   "outputs": [],
   "source": [
    "ymd(\"July 17, 1988\") == \"1988-07-17\""
   ]
  },
  {
   "cell_type": "code",
   "execution_count": null,
   "metadata": {},
   "outputs": [],
   "source": [
    "ymd(\"January 1, 1970\") == \"1970-01-01\""
   ]
  },
  {
   "cell_type": "markdown",
   "metadata": {},
   "source": [
    "# Problem 2"
   ]
  },
  {
   "cell_type": "markdown",
   "metadata": {},
   "source": [
    "Write a function `sumvals(f,L)` that takes a function `f` and a list of numbers `L` and returns the sum of `f` applied to each of the elements of `L`.\n",
    "\n",
    "For example, `sumvals(f,[1,2,3])` would return the value of the sum `f(1)+f(2)+f(3)`.\n",
    "\n",
    "Notice that your solution to this problem shouldn't print anything; instead it should be a function that returns a value."
   ]
  },
  {
   "cell_type": "markdown",
   "metadata": {},
   "source": [
    "Here are some test cases that should all evaluate to True:"
   ]
  },
  {
   "cell_type": "code",
   "execution_count": null,
   "metadata": {
    "scrolled": true
   },
   "outputs": [],
   "source": [
    "def f(x):\n",
    "    '''square x'''\n",
    "    return x*x\n",
    "\n",
    "\n",
    "sumvals(f,[-1,0,1])==2"
   ]
  },
  {
   "cell_type": "code",
   "execution_count": null,
   "metadata": {},
   "outputs": [],
   "source": [
    "def g(x):\n",
    "    '''compute 2x+2'''\n",
    "    return 2*x+2\n",
    "\n",
    "sumvals(g,[1,1.5,2,2.5])==22.0"
   ]
  },
  {
   "cell_type": "markdown",
   "metadata": {},
   "source": [
    "# Problem 3"
   ]
  },
  {
   "cell_type": "markdown",
   "metadata": {},
   "source": [
    "Write a script that accepts two command line arguments.  The first argument is an input filename, the second is an output filename.\n",
    "\n",
    "The script should open and read from the input file (a text file) to determine which line of that file has the most characters.\n",
    "\n",
    "Then the script should open the output file for writing, and write only the longest line from the input file.  If several lines are tied for the longest, then only the one appearing latest in the input file should be written to the output file.\n",
    "\n",
    "Notice that your solution to this problem should not print anything.  It only reads from one file and writes to another."
   ]
  },
  {
   "cell_type": "markdown",
   "metadata": {},
   "source": [
    "This script can't be easily tested in the REPL because it needs to process files.  But here is a test case you can run in a terminal on your computer.\n",
    "\n",
    "If you create a file `in.txt` with contents:\n",
    "\n",
    "```\n",
    "short line\n",
    "longer line\n",
    "much longer line with more words\n",
    "and\n",
    "line that ties the previous one!\n",
    "nothing else\n",
    "```\n",
    "\n",
    "Then if your script is called `longestline.py`, running\n",
    "\n",
    "```\n",
    "python longestline.py a.txt b.txt\n",
    "```\n",
    "\n",
    "should result in a file `b.txt` containing\n",
    "\n",
    "```\n",
    "line that ties the previous one!\n",
    "```\n",
    "because there is a tie for longest line, and this is the last of the lines from `a.txt` that has the maximum length.\n"
   ]
  },
  {
   "cell_type": "code",
   "execution_count": null,
   "metadata": {},
   "outputs": [],
   "source": []
  }
 ],
 "metadata": {
  "kernelspec": {
   "display_name": "Python 3",
   "language": "python",
   "name": "python3"
  },
  "language_info": {
   "codemirror_mode": {
    "name": "ipython",
    "version": 3
   },
   "file_extension": ".py",
   "mimetype": "text/x-python",
   "name": "python",
   "nbconvert_exporter": "python",
   "pygments_lexer": "ipython3",
   "version": "3.8.2"
  }
 },
 "nbformat": 4,
 "nbformat_minor": 4
}
