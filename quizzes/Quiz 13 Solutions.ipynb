{
 "cells": [
  {
   "cell_type": "markdown",
   "metadata": {},
   "source": [
    "# Question 2: Simple Flask API\n",
    "\n",
    "Use Flask to write a simple API so that when it runs on your computer, accessing\n",
    "\n",
    "```text\n",
    "http://localhost:5000/release_sharks\n",
    "```\n",
    "\n",
    "will return JSON as follows:\n",
    "\n",
    "```text\n",
    "{ \"success\": true, \"shark_count\": 5 }\n",
    "```\n",
    "\n",
    "but where the value associated to `shark_count` is replaced by a random integer between 3 and 30.\n",
    "\n",
    "Before submitting you should test your API by running the program on your computer and then loading the URL http://localhost:5000/release_sharks\n",
    "\n",
    "Then, paste the full code for your Flask application here:"
   ]
  },
  {
   "cell_type": "code",
   "execution_count": null,
   "metadata": {},
   "outputs": [],
   "source": [
    "import flask\n",
    "import random\n",
    "\n",
    "app = flask.Flask(__name__)\n",
    "\n",
    "# Create a route at /release_sharks\n",
    "@app.route(\"/release_sharks\")\n",
    "def sharks():\n",
    "    \"\"\"Returns json data with two fields:\n",
    "    success: True\n",
    "    shark_count: (an integer 3-30)\n",
    "    \"\"\"\n",
    "    # Choose a random integer for number of sharks\n",
    "    num_sharks = random.randint(3,30) \n",
    "    # Must use True (not true)\n",
    "    data = {\"success\":True, \"shark_count\": num_sharks} \n",
    "    # Turns a dictionary into a json string\n",
    "    return flask.jsonify(data) \n",
    "\n",
    "app.run() # By default, port = 5000"
   ]
  },
  {
   "cell_type": "markdown",
   "metadata": {},
   "source": [
    "# Question 3: Simple API query\n",
    "\n",
    "**Note: In order to test your answer to this problem, you need to have the API from Q2 working.**\n",
    "\n",
    "Write a program that uses `urllib.request.urlopen` and the `json` module to retrieve the URL `http://localhost:5000/release_sharks`, interpret it as JSON, and retrieve the `shark_count`.  It should then print a message to the terminal like\n",
    "\n",
    "```text\n",
    "5 sharks released\n",
    "```\n",
    "\n",
    "but reflecting the actual data received from the request.  It should then exit.\n",
    "\n",
    "Test your program with the API from Q2 running.\n",
    "\n",
    "Your program doesn't need to handle potential errors loading the URL, or unexpected content in the response.\n",
    "\n",
    "After testing, paste the full code for your program here:"
   ]
  },
  {
   "cell_type": "code",
   "execution_count": null,
   "metadata": {},
   "outputs": [],
   "source": [
    "import urllib.request\n",
    "import json\n",
    "\n",
    "# Use the address given in the problem\n",
    "url = \"http://localhost:5000/release_sharks\"\n",
    "\n",
    "response = urllib.request.urlopen(url)\n",
    "\n",
    "# Read response into a string\n",
    "s = response.read()\n",
    "\n",
    "# Use json module to load string into a dictionary\n",
    "data = json.loads(s)\n",
    "\n",
    "# Not strictly necessary to check the condition, but good practice\n",
    "if data[\"success\"]:\n",
    "    # Print out the string\n",
    "    print(\"{} sharks released\".format(data['shark_count']))\n",
    "\n",
    "# No more code, so the program will exit"
   ]
  }
 ],
 "metadata": {
  "kernelspec": {
   "display_name": "Python 3",
   "language": "python",
   "name": "python3"
  },
  "language_info": {
   "codemirror_mode": {
    "name": "ipython",
    "version": 3
   },
   "file_extension": ".py",
   "mimetype": "text/x-python",
   "name": "python",
   "nbconvert_exporter": "python",
   "pygments_lexer": "ipython3",
   "version": "3.8.5"
  }
 },
 "nbformat": 4,
 "nbformat_minor": 4
}
