{
 "cells": [
  {
   "cell_type": "markdown",
   "metadata": {},
   "source": [
    "# Question 1: CSV show email column\n",
    "\n",
    "Write a script called `emailcolumn.py` which will read the CSV file given as the first command line argument (i.e. in `sys.argv[1]`) and, assuming this file has a header row, do the following:\n",
    "* If there is a column in the CSV file called `email`, it should print every value that appears in this column, one per line.\n",
    "* If there is no column called `email`, it should print a message that says so.\n",
    "\n",
    "For example, if the following text is saved in `data.csv`:\n",
    "\n",
    "```text\n",
    "name,email,favorite_apple_variety\n",
    "David,pythonist@example.com,McIntosh\n",
    "Elon,martian@example.org,Delicious\n",
    "Melissa,192818943@nsa.gov,\"Northern Spy\"\n",
    "```\n",
    "\n",
    "then the output of the shell command\n",
    "\n",
    "```text\n",
    "python emailcolumn.py data.csv\n",
    "```\n",
    "\n",
    "should be:\n",
    "\n",
    "```text\n",
    "pythonist@example.com\n",
    "martian@example.org\n",
    "192818943@nsa.gov\n",
    "```\n",
    "\n",
    "Then, after testing, paste the entire source code for `emailcolumn.py` below."
   ]
  },
  {
   "cell_type": "code",
   "execution_count": 1,
   "metadata": {},
   "outputs": [
    {
     "ename": "FileNotFoundError",
     "evalue": "[Errno 2] No such file or directory: '-f'",
     "output_type": "error",
     "traceback": [
      "\u001b[1;31m---------------------------------------------------------------\u001b[0m",
      "\u001b[1;31mFileNotFoundError\u001b[0m             Traceback (most recent call last)",
      "\u001b[1;32m<ipython-input-1-a0274d18cee8>\u001b[0m in \u001b[0;36m<module>\u001b[1;34m\u001b[0m\n\u001b[0;32m      6\u001b[0m \u001b[1;33m\u001b[0m\u001b[0m\n\u001b[0;32m      7\u001b[0m \u001b[1;31m# Open the csv file in readmode with newline=\"\"\u001b[0m\u001b[1;33m\u001b[0m\u001b[1;33m\u001b[0m\u001b[1;33m\u001b[0m\u001b[0m\n\u001b[1;32m----> 8\u001b[1;33m \u001b[0mf\u001b[0m \u001b[1;33m=\u001b[0m \u001b[0mopen\u001b[0m\u001b[1;33m(\u001b[0m\u001b[0mcsv_fn\u001b[0m\u001b[1;33m,\u001b[0m \u001b[1;34m\"r\"\u001b[0m\u001b[1;33m,\u001b[0m \u001b[0mnewline\u001b[0m\u001b[1;33m=\u001b[0m\u001b[1;34m\"\"\u001b[0m\u001b[1;33m)\u001b[0m\u001b[1;33m\u001b[0m\u001b[1;33m\u001b[0m\u001b[0m\n\u001b[0m\u001b[0;32m      9\u001b[0m \u001b[1;33m\u001b[0m\u001b[0m\n\u001b[0;32m     10\u001b[0m \u001b[1;31m# Use csv.DictReader, which creates an iterable of dictionaries with the header row as keys\u001b[0m\u001b[1;33m\u001b[0m\u001b[1;33m\u001b[0m\u001b[1;33m\u001b[0m\u001b[0m\n",
      "\u001b[1;31mFileNotFoundError\u001b[0m: [Errno 2] No such file or directory: '-f'"
     ]
    }
   ],
   "source": [
    "import sys\n",
    "import csv\n",
    "\n",
    "# Read the input argument\n",
    "csv_fn = sys.argv[1]\n",
    "\n",
    "# Open the csv file in readmode with newline=\"\"\n",
    "f = open(csv_fn, \"r\", newline=\"\")\n",
    "\n",
    "# Use csv.DictReader, which creates an iterable of dictionaries with the header row as keys\n",
    "csv_data = csv.DictReader(f)\n",
    "\n",
    "# Iterate through csv_data...\n",
    "for row in csv_data:\n",
    "    # Check whether email is a key, i.e. a column. If no, print a message and exit.\n",
    "    if \"email\" not in row.keys():\n",
    "        print(\"Error: there is no column named email\")\n",
    "        exit()\n",
    "    # Otherwise, print the \"email\" field from the row\n",
    "    print(row[\"email\"])"
   ]
  },
  {
   "cell_type": "markdown",
   "metadata": {},
   "source": [
    "# Question 2: Testing reverser\n",
    "\n",
    "Suppose a file `reverser.py` contains this code (a module with one function to reverse a string):\n",
    "\n",
    "```python\n",
    "\"\"\"String reverser\"\"\"\n",
    "\n",
    "def reverse(s):\n",
    "    \"\"\"Return string s in opposite order\"\"\"\n",
    "    return s[::-1]\n",
    "```\n",
    "\n",
    "Write a file `test_reverser.py` that contains a test function for the `reverser` module and that can be used with pytest.  Remember, the name of the test function should start with `test_`.  The file should begin as follows:\n",
    "\n",
    "```python\n",
    "\"\"\"Test suite for reverser\"\"\"\n",
    "\n",
    "import reverser\n",
    "```\n",
    "\n",
    "Make sure that your test passes by saving `reverser.py` and `test_reverser.py` in a directory not containing other Python source files and running the shell command\n",
    "\n",
    "```text\n",
    "python -m pytest\n",
    "```\n",
    "\n",
    "in that directory.  Then, after confirming it works, paste the entire contents of `test_reverser.py` here:\n"
   ]
  },
  {
   "cell_type": "code",
   "execution_count": null,
   "metadata": {},
   "outputs": [],
   "source": [
    "\"\"\"Test suite for reverser\"\"\"\n",
    "\n",
    "import reverser\n",
    "\n",
    "def test_reverse():\n",
    "    '''Pytest-compatible function tests reverser.reverse() on several input strings'''\n",
    "    inputs = [\"Hello\", \"World\", \"MCS 260\"]\n",
    "    expected_outputs = [\"olleH\", \"dlroW\", \"062 SCM\"]\n",
    "    \n",
    "    # Confirm that outputs match expectations\n",
    "    for word_in, word_out in zip(inputs, expected_outputs):\n",
    "        assert reverser.reverse(word_in) == word_out\n",
    "    "
   ]
  }
 ],
 "metadata": {
  "kernelspec": {
   "display_name": "Python 3",
   "language": "python",
   "name": "python3"
  },
  "language_info": {
   "codemirror_mode": {
    "name": "ipython",
    "version": 3
   },
   "file_extension": ".py",
   "mimetype": "text/x-python",
   "name": "python",
   "nbconvert_exporter": "python",
   "pygments_lexer": "ipython3",
   "version": "3.8.5"
  }
 },
 "nbformat": 4,
 "nbformat_minor": 4
}
