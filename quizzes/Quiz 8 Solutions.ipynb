{
 "cells": [
  {
   "cell_type": "markdown",
   "metadata": {},
   "source": [
    "# Question 1: If not exists, create\n",
    "\n",
    "Write a function `check_open(fn)` that accepts a string `fn` and checks whether the file `fn` exists.  If it exists, the function should raise the exception `Exception(\"The file {} already exists.\".format(fn))`.  If it does not exist, then the function should open it for writing and return the resulting file object.\n",
    "\n",
    "You may assume that the `os` module has already been imported.\n",
    "\n",
    "Thus if the function works properly, the following code should work the first time it is run, but should raise an exception the second time (unless you delete `check_open_demo.txt`).\n",
    "\n",
    "```\n",
    "#Example of using check_open()\n",
    "#Do not include this example code in your answer.\n",
    "import os\n",
    "\n",
    "#...\n",
    "#code for check_open() goes here\n",
    "#and that is the ONLY part you \n",
    "#should submit below!\n",
    "#...\n",
    "\n",
    "f = check_open(\"check_open_demo.txt\")\n",
    "f.write(\"foo\\n\")\n",
    "f.close()\n",
    "```"
   ]
  },
  {
   "cell_type": "code",
   "execution_count": null,
   "metadata": {},
   "outputs": [],
   "source": [
    "def check_open(fn):\n",
    "    '''Either raises an exception is the file already exists, or returns the file opened in write mode'''\n",
    "    if os.path.exists(fn):\n",
    "        raise Exception(\"The file {} already exists.\".format(fn))\n",
    "    else\n",
    "        return open(fn, \"w\")"
   ]
  },
  {
   "cell_type": "markdown",
   "metadata": {},
   "source": [
    "# Question 2: Old trig module\n",
    "\n",
    "Recall that Python's `math` module contains the standard trig functions (sin, cos, tan, ...).  In the 19th century there were a number of other trig functions in common use that have since faded into obscurity.\n",
    "\n",
    "Create a module `oldtrig` that contains the following antiquated functions:\n",
    "\n",
    "* `hsin(x)` - The \"haversine\" function, defined as \n",
    "\n",
    "$$\\mathrm{hsin}(x) = (1 - \\cos(x))/2$$\n",
    "\n",
    "* `exsec(x)` - The \"exsecant\" function, defined as $$\\mathrm{exsec}(x) = -1 + (1 / \\cos(x)).$$\n",
    "\n",
    "The following test code may be useful.\n",
    "\n",
    "```\n",
    "import oldtrig\n",
    "\n",
    "x = 0.1234\n",
    "print(\"hsin({}): computed {}, expected {}\".format(x,oldtrig.hsin(x),0.0038020616475544777))\n",
    "\n",
    "x = 0.2345\n",
    "print(\"exsec({}): computed {}, expected {}\".format(x,oldtrig.exsec(x),0.028139519343531427))\n",
    "```\n",
    "\n",
    "Paste the contents of `oldtrig.py` into the text entry box below."
   ]
  },
  {
   "cell_type": "code",
   "execution_count": 3,
   "metadata": {},
   "outputs": [],
   "source": [
    "'''oldtrig is a module used to calculate obsolete trig functions, including hsin and exsec'''\n",
    "# J. Vaccaro\n",
    "\n",
    "import math\n",
    "\n",
    "def hsin(x):\n",
    "    '''Evaluates the haversine function at x'''\n",
    "    return (1-math.cos(x))/2\n",
    "\n",
    "def exsec(x):\n",
    "    '''Evaluates the exsecant function at x'''\n",
    "    return -1+(1/math.cos(x))"
   ]
  },
  {
   "cell_type": "markdown",
   "metadata": {},
   "source": [
    "# Question 3: No license\n",
    "\n",
    "True or False: If you find some Python code on a web site that does not have any license information associated with it, then you are allowed to use that code as part of a program you will make publicly available, as long as you don't sell your program."
   ]
  },
  {
   "cell_type": "markdown",
   "metadata": {},
   "source": [
    "## False."
   ]
  },
  {
   "cell_type": "markdown",
   "metadata": {},
   "source": [
    "# Question 4: License type\n",
    "\n",
    "Which of these terms refers to computer programs in which the source code is made publicly available with a license that gives anyone permission to use, modify, and redistribute the code?"
   ]
  },
  {
   "cell_type": "markdown",
   "metadata": {},
   "source": [
    "## Open source software"
   ]
  },
  {
   "cell_type": "code",
   "execution_count": null,
   "metadata": {},
   "outputs": [],
   "source": []
  }
 ],
 "metadata": {
  "kernelspec": {
   "display_name": "Python 3",
   "language": "python",
   "name": "python3"
  },
  "language_info": {
   "codemirror_mode": {
    "name": "ipython",
    "version": 3
   },
   "file_extension": ".py",
   "mimetype": "text/x-python",
   "name": "python",
   "nbconvert_exporter": "python",
   "pygments_lexer": "ipython3",
   "version": "3.8.5"
  }
 },
 "nbformat": 4,
 "nbformat_minor": 4
}
