{
 "cells": [
  {
   "cell_type": "markdown",
   "metadata": {},
   "source": [
    "This problem is about using the following function:\n",
    "\n",
    "```python\n",
    "def parse_temperature(s):\n",
    "    \"\"\"Convert a temperature string like \"32F\" or \"18.5C\" to a\n",
    "    dictionary containing the float temperature and the scale\n",
    "    \"\"\"\n",
    "    scale = s[-1].upper()\n",
    "    temp = float(s[:-1])\n",
    "    d = dict()\n",
    "    if scale == \"F\":\n",
    "        d[\"scale\"] = \"Fahrenheit\"\n",
    "    elif scale == \"C\":\n",
    "        d[\"scale\"] = \"Celsius\"\n",
    "    else:\n",
    "        raise ValueError(\"Unknown temperature scale {}\".format(s[-1]))\n",
    "    d[\"temp\"] = temp\n",
    "    return d\n",
    "```\n",
    "\n",
    "Here are two examples of using this function:\n",
    "\n",
    "```python\n",
    "parse_temperature(\"87.5f\")\n",
    "```\n",
    "```text\n",
    "{'scale': 'Fahrenheit', 'temp': 87.5}\n",
    "```\n",
    "```python\n",
    "s = \"21C\"\n",
    "d = parse_temperature(s)\n",
    "print(\"Understood '{}' as meaning {:.2f} in the {} scale\".format(s,d[\"temp\"],d[\"scale\"]))\n",
    "```\n",
    "```text\n",
    "Understood '21C' as meaning 21.00 in the Celsius scale\n",
    "```\n",
    "\n",
    "At the end of this question, you will find a program that uses the function defined above to read a temperature from the keyboard and print some information. However, the program is not robust. \n",
    " It will fail if the input is malformed, e.g.\n",
    "\n",
    "* Empty input\n",
    "* Scale missing (e.g. \"32\")\n",
    "* Unknown scale (e.g. \"276K\")\n",
    "* Invalid number (e.g. \"very hot C\")\n",
    "\n",
    "Modify this program so that it is robust against all of these bad input types. Instead of exiting with an error, it should print a meaningful error message and then wait for a new string to be entered from the keyboard. It should continue this way until the input is parsed without error.\n",
    "\n",
    "**You should copy this program into an editor, fix it, and then paste the entire fixed program into the answer area below.**\n",
    "\n",
    "\n",
    "```python\n",
    "\"\"\"Read a temperature from the keyboard\"\"\"\n",
    "\n",
    "def parse_temperature(s):\n",
    "    \"\"\"Convert a temperature string like \"32F\" or \"18.5C\" to a\n",
    "    dictionary containing the float temperature and the scale\n",
    "    \"\"\"\n",
    "    scale = s[-1].upper()\n",
    "    temp = float(s[:-1])\n",
    "    d = dict()\n",
    "    if scale == \"F\":\n",
    "        d[\"scale\"] = \"Fahrenheit\"\n",
    "    elif scale == \"C\":\n",
    "        d[\"scale\"] = \"Celsius\"\n",
    "    else:\n",
    "        raise ValueError(\"Unknown temperature scale {}\".format(s[-1]))\n",
    "    d[\"temp\"] = temp\n",
    "    return d\n",
    "\n",
    "# Fix the lines below to add error handling!\n",
    "d = parse_temperature(input())\n",
    "print(\"Read temperature {} in scale {}\".format(d[\"temp\"],d[\"scale\"]))\n",
    "```\n"
   ]
  },
  {
   "cell_type": "code",
   "execution_count": 8,
   "metadata": {},
   "outputs": [
    {
     "name": "stdout",
     "output_type": "stream",
     "text": [
      "jhgf\n",
      "Please make sure your input includes a scale (C or F) and that your temperature is a number\n",
      "37C   \n",
      "Please make sure your input includes a scale (C or F) and that your temperature is a number\n",
      "37C\n",
      "Read temperature 37.0 in scale Celsius\n"
     ]
    }
   ],
   "source": [
    "\"\"\"Read a temperature from the keyboard\"\"\"\n",
    "\n",
    "def parse_temperature(s):\n",
    "    \"\"\"Convert a temperature string like \"32F\" or \"18.5C\" to a\n",
    "    dictionary containing the float temperature and the scale\n",
    "    \"\"\"\n",
    "    scale = s[-1].upper()\n",
    "    temp = float(s[:-1])\n",
    "    d = dict()\n",
    "    if scale == \"F\":\n",
    "        d[\"scale\"] = \"Fahrenheit\"\n",
    "    elif scale == \"C\":\n",
    "        d[\"scale\"] = \"Celsius\"\n",
    "    else:\n",
    "        raise ValueError(\"Unknown temperature scale {}\".format(s[-1]))\n",
    "    d[\"temp\"] = temp\n",
    "    return d\n",
    "\n",
    "# Fix the lines below to add error handling!\n",
    "\n",
    "while True:\n",
    "    try:\n",
    "        d = parse_temperature(input())\n",
    "        print(\"Read temperature {} in scale {}\".format(d[\"temp\"],d[\"scale\"]))\n",
    "        break\n",
    "    except IndexError:\n",
    "        print(\"Please input a temperature with a number and a scale, e.g. 37C\")\n",
    "    except ValueError:\n",
    "        print(\"Please make sure your input includes a number and a scale (C or F), e.g. 37C\")"
   ]
  },
  {
   "cell_type": "markdown",
   "metadata": {},
   "source": [
    "The function below has no docstring, no comments, and poor choices of variable names. The name of the function is also not helpful.\n",
    "\n",
    "Figure out what this function does and then revise is to have a better name, a docstring, explanatory comments, and better variable names.\n",
    "\n",
    "You should use your judgment about the best place to put explanatory comments in the function body, but at least one such comment is required.\n",
    "\n",
    "```python\n",
    "def f(x1,x2,x3):\n",
    "    x4 = x2+x3\n",
    "    x5 = []\n",
    "    for x6 in x1:\n",
    "        if x6[0] == x2 and x6[:2] != x4:\n",
    "            x5.append(x6)\n",
    "    return x5\n",
    "```\n",
    "\n",
    "In doing so, you should probably experiment with what `f(...)` does for certain cases. Here is a suggested test case to start with:\n",
    "\n",
    "```python\n",
    "f([\"Aditya\",\"Alice\",\"Isa\",\"Vladimir\",\"Karim\",\"Alberto\"],\"A\",\"d\")\n",
    "```\n",
    "\n",
    "Put the modified version of your function here:"
   ]
  },
  {
   "cell_type": "code",
   "execution_count": 5,
   "metadata": {},
   "outputs": [],
   "source": [
    "def filter_names(Names,first_letter,second_letter):\n",
    "    '''Takes in a list of names Names. Returns a list containing each name in Names \n",
    "    with the given first letter and a different given second letter'''\n",
    "    two_letters = first_letter+second_letter\n",
    "    Names_Filtered = []\n",
    "    for name in Names:\n",
    "        # Check that name has the correct first letter, but has a DIFFERENT second letter\n",
    "        if name[0] == first_letter and name[:2] != two_letters:\n",
    "            Names_Filtered.append(name)\n",
    "    return Names_Filtered"
   ]
  },
  {
   "cell_type": "code",
   "execution_count": 6,
   "metadata": {},
   "outputs": [
    {
     "name": "stdout",
     "output_type": "stream",
     "text": [
      "['Alice', 'Alberto']\n"
     ]
    }
   ],
   "source": [
    "print(filter_names([\"Aditya\",\"Alice\",\"Isa\",\"Vladimir\",\"Karim\",\"Alberto\"],\"A\",\"d\"))"
   ]
  },
  {
   "cell_type": "markdown",
   "metadata": {},
   "source": [
    "Let's say that a list of integers is \"good\" if none of the integers is a multiple of 7, and at least one of them contains the digit 3 when written in decimal.\n",
    "\n",
    "For example,\n",
    "\n",
    "```\n",
    "[10,15,20,25,30]\n",
    "```\n",
    "is good. However, the list\n",
    "```\n",
    "[10,15,20,25,30,35]\n",
    "```\n",
    "is not good because 35 is a multiple of 7. Also, the list\n",
    "```\n",
    "[10,15,20,25]\n",
    "```\n",
    "is not good because none of its entries contains a digit 3.\n",
    "\n",
    "Write a function `isgood(L)` that takes a single argument `L`, a list of integers, and returns True if `L` is good, and False otherwise.  **Your function must have only a single line of code other than its docstring.**  The purpose of the question is to test whether you can use constructs we learned recently related to testing elements of iterables to perform this test in a single line of code.\n",
    "\n",
    "Here are some test cases that should all evaluate to True if your function works correctly:\n",
    "\n",
    "```python\n",
    "isgood([10,15,20,25,30]) == True\n",
    "```\n",
    "```python\n",
    "isgood([10,15,20,25,30,35]) == False\n",
    "```\n",
    "```python\n",
    "isgood([10,15,20,25]) == False\n",
    "```\n",
    "```python\n",
    "isgood([5,2,8,9]) == False\n",
    "```\n",
    "\n",
    "Put the code for your function (and only your function; no test cases!) below:"
   ]
  },
  {
   "cell_type": "code",
   "execution_count": 1,
   "metadata": {},
   "outputs": [],
   "source": [
    "def isgood(L):\n",
    "    '''Returns True is L contains no multiples of 7 and at least one number containing a decimal 3'''\n",
    "    return all([i%7!=0 for i in L]) and any([\"3\" in str(i) for i in L])"
   ]
  },
  {
   "cell_type": "code",
   "execution_count": 2,
   "metadata": {},
   "outputs": [
    {
     "name": "stdout",
     "output_type": "stream",
     "text": [
      "True\n",
      "True\n",
      "True\n",
      "True\n"
     ]
    }
   ],
   "source": [
    "print(isgood([10,15,20,25,30]) == True)\n",
    "print(isgood([10,15,20,25,30,35]) == False)\n",
    "print(isgood([10,15,20,25]) == False)\n",
    "print(isgood([5,2,8,9]) == False)"
   ]
  },
  {
   "cell_type": "code",
   "execution_count": null,
   "metadata": {},
   "outputs": [],
   "source": []
  }
 ],
 "metadata": {
  "kernelspec": {
   "display_name": "Python 3",
   "language": "python",
   "name": "python3"
  },
  "language_info": {
   "codemirror_mode": {
    "name": "ipython",
    "version": 3
   },
   "file_extension": ".py",
   "mimetype": "text/x-python",
   "name": "python",
   "nbconvert_exporter": "python",
   "pygments_lexer": "ipython3",
   "version": "3.8.5"
  }
 },
 "nbformat": 4,
 "nbformat_minor": 4
}
