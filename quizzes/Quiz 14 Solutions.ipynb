{
 "cells": [
  {
   "cell_type": "code",
   "execution_count": 1,
   "metadata": {},
   "outputs": [
    {
     "name": "stdout",
     "output_type": "stream",
     "text": [
      "2020-12-06 is a Sunday\n",
      "2018-08-04 is a Saturday\n",
      "2004-04-25 is a Sunday\n",
      "2009-01-20 is a Tuesday\n",
      "2012-06-02 is a Saturday\n"
     ]
    }
   ],
   "source": [
    "\"\"\"Quiz 14 Solution: Print the weekday for each of the given dates\"\"\"\n",
    "import datetime\n",
    "\n",
    "# initialize a list of datetime objects to be converted\n",
    "date_list = [\n",
    "    datetime.date(2020, 12, 6),\n",
    "    datetime.date(2018, 8, 4),\n",
    "    datetime.date(2004, 4, 25),\n",
    "    datetime.date(2009, 1, 20),\n",
    "    datetime.date(2012, 6, 2)\n",
    "]\n",
    "# Iterate over the list and print in the desired format\n",
    "# Note: %A is the format code for the weekday name\n",
    "for date in date_list:\n",
    "    print(date.strftime(\"%Y-%m-%d is a %A\"))"
   ]
  }
 ],
 "metadata": {
  "kernelspec": {
   "display_name": "Python 3",
   "language": "python",
   "name": "python3"
  },
  "language_info": {
   "codemirror_mode": {
    "name": "ipython",
    "version": 3
   },
   "file_extension": ".py",
   "mimetype": "text/x-python",
   "name": "python",
   "nbconvert_exporter": "python",
   "pygments_lexer": "ipython3",
   "version": "3.8.5"
  }
 },
 "nbformat": 4,
 "nbformat_minor": 4
}
