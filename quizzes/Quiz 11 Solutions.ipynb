{
 "cells": [
  {
   "cell_type": "markdown",
   "metadata": {},
   "source": [
    "# Hex literal regex\n",
    "\n",
    "The actual problem can be found near the bottom of the quiz.  But as a warm-up, here is a sample problem and solution that are similar to the actual quiz problem.\n",
    "\n",
    "### Sample problem\n",
    "Write a regular expression that matches a phone number in a format like 312-555-0000 and which captures the area code to a group.\n",
    "\n",
    "### Sample solution\n",
    "```text\n",
    "(\\d{3})-\\d{3}-\\d{4}\n",
    "```\n",
    "\n",
    "### How we can test that this works\n",
    "The following code uses the regex above to find phone numbers in a string and print the area codes.\n",
    "\n",
    "```\n",
    "import re\n",
    "pat = r\"(\\d{3})-\\d{3}-\\d{4}\"\n",
    "s = \"First phone number is 312-555-0000 and the second one is 617-555-1212.\"\n",
    "for m in re.finditer(pat,s):\n",
    "    print(\"Found a match '{}' with area code '{}'.\".format(\n",
    "        m.group(),\n",
    "        m.group(1)\n",
    "    ))\n",
    "```\n",
    "If this code is run, it finds and prints the two phone numbers and their area codes.\n"
   ]
  },
  {
   "cell_type": "markdown",
   "metadata": {},
   "source": [
    "# **THE ACTUAL QUIZ PROBLEM**\n",
    "\n",
    "Write a regular expression that will match any hexadecimal literal in Python notation, meaning `0x` followed by one or more hex digits (uppercase or lowercase).  Make your expression capture the digits themselves to a group, without the `0x`.\n",
    "**Example:** The string `\"1F02\"` shouldn't match at all, since `0x` is missing.  The string `\"0xg123\"` shouldn't match either, since `g` is not a hex digit.  But the entire string `\"0x2FeEd\"` should match since it is a hex literal, and group 1 should be `\"2FeEd\"`.\n",
    "\n",
    "### Suggestions for how to work on this  \n",
    "\n",
    "* Test your code!\n",
    "* Use [pythex.org](https://pythex.org) to debug your regex\n",
    "\n",
    "\n",
    "\n",
    "\n",
    "## Your answer\n",
    "\n",
    "Only submit the actual regex, and not any test code you've written. Your answer should fit on a single line."
   ]
  },
  {
   "cell_type": "markdown",
   "metadata": {},
   "source": [
    "```0x([0-9A-Fa-f]+)```\n",
    "\n",
    "The important components of this regex include...\n",
    "\n",
    "* ```0x``` : Match the beginning of the hex string\n",
    "* ```(...)``` : Find a group within the string\n",
    "* ```0-9A-Fa-f``` : Match with valid hex digits\n",
    "* ```[...]+``` : May contain 1 or more hex digits"
   ]
  },
  {
   "cell_type": "code",
   "execution_count": 5,
   "metadata": {},
   "outputs": [
    {
     "name": "stdout",
     "output_type": "stream",
     "text": [
      "Found a match '0x123eAf2' with hex digits '123eAf2'.\n",
      "Found a match '0xAB' with hex digits 'AB'.\n"
     ]
    }
   ],
   "source": [
    "# Question 1 Solution Test code\n",
    "import re\n",
    "pat = r\"0x([0-9A-Fa-f]+)\"\n",
    "s = \"First hex digit is 0x123eAf2 and the second one is 0xAB.\"\n",
    "for m in re.finditer(pat,s):\n",
    "    print(\"Found a match '{}' with hex digits '{}'.\".format(\n",
    "        m.group(),\n",
    "        m.group(1)\n",
    "    ))"
   ]
  },
  {
   "cell_type": "code",
   "execution_count": null,
   "metadata": {},
   "outputs": [],
   "source": []
  }
 ],
 "metadata": {
  "kernelspec": {
   "display_name": "Python 3",
   "language": "python",
   "name": "python3"
  },
  "language_info": {
   "codemirror_mode": {
    "name": "ipython",
    "version": 3
   },
   "file_extension": ".py",
   "mimetype": "text/x-python",
   "name": "python",
   "nbconvert_exporter": "python",
   "pygments_lexer": "ipython3",
   "version": "3.8.5"
  }
 },
 "nbformat": 4,
 "nbformat_minor": 4
}
