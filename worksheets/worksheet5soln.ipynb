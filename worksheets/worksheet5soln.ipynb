{
 "cells": [
  {
   "cell_type": "markdown",
   "metadata": {},
   "source": [
    "# Problem 1"
   ]
  },
  {
   "cell_type": "code",
   "execution_count": 15,
   "metadata": {},
   "outputs": [],
   "source": [
    "# This problem asked about the following code:\n",
    "\n",
    "s = 1\n",
    "def f(s,t,u=-5):\n",
    "    \"\"\"\n",
    "    Work with local and global vars to test\n",
    "    whether students understand the difference.\n",
    "    \"\"\"\n",
    "    t = 2\n",
    "    v = 3\n",
    "    for i in range(5):\n",
    "        s = s*t\n",
    "    del t\n",
    "    return(s+u+v)\n",
    "t = 3\n",
    "s = f(1,t)"
   ]
  },
  {
   "cell_type": "markdown",
   "metadata": {},
   "source": [
    "Explanation: s gets the value 30 because the function f's return value is assigned to s. Thus while\n",
    "the initial assignment of s = 1 is a global variable and would have precedence\n",
    "over any valued assigned to s by f,the reassignment of s to the function return value\n",
    "outside the function, changes this outer (global variable) value of s.\n",
    "\n",
    "The function f is given arguments s = 1, t = 3, and u = -5 (default).  However, when t is\n",
    "assigned the value 2 in the function, this overrides the value passed as an argument. The inner \n",
    "for loop effectively computes 2^5 (2 is multiplied by itself 5 times). Thus,\n",
    "the return value of f (Which is assigned to s) is given by 32 + 3 - 5 = 30.  The return statement\n",
    "uses the local variable v in this computation.  The deletion of t in the previous line has no bearing\n",
    "on how the function works."
   ]
  },
  {
   "cell_type": "markdown",
   "metadata": {},
   "source": [
    "Classifying the variables:\n",
    "* s: both\n",
    "* t: both\n",
    "* u: local\n",
    "* v: local"
   ]
  },
  {
   "cell_type": "markdown",
   "metadata": {},
   "source": [
    "# Problem 2"
   ]
  },
  {
   "cell_type": "code",
   "execution_count": 4,
   "metadata": {},
   "outputs": [],
   "source": [
    "# Problem 2\n",
    "\n",
    "def is_palindrome(s):\n",
    "    \"\"\"Determine whether string s is a palindrome,\n",
    "    returning a boolean\"\"\"\n",
    "    t = s[::-1]\n",
    "    return t == s\n",
    "\n",
    "def only_palindromes(L):\n",
    "    \"\"\"Return list of the palindromes in L\"\"\"\n",
    "    M = []\n",
    "    \n",
    "    for i in L:\n",
    "        if isPalindrome(i):\n",
    "            M.append(i)\n",
    "    return M\n",
    "    "
   ]
  },
  {
   "cell_type": "code",
   "execution_count": 117,
   "metadata": {},
   "outputs": [
    {
     "name": "stdout",
     "output_type": "stream",
     "text": [
      "['racecar', 'reviver', 'sagas']\n"
     ]
    }
   ],
   "source": [
    "# Testing our solution.\n",
    "L = [ \"drab\", \"racecar\", \"tremble\", \"reviver\", \"sagas\", \"dressed\" ]\n",
    "print(only_palindromes(L))"
   ]
  },
  {
   "cell_type": "markdown",
   "metadata": {},
   "source": [
    "# Problem 3"
   ]
  },
  {
   "cell_type": "code",
   "execution_count": 1,
   "metadata": {},
   "outputs": [],
   "source": [
    "def get_ints(s):\n",
    "    \"\"\"Given a string `s` consisting of integers separated by whitespace, commas, and the\n",
    "    word 'and', return a list of the integers.\"\"\"\n",
    "    s = s.replace(\",\",\" \").replace(\"and\",\" \") # replace all separators with whitespace\n",
    "    return [int(x) for x in s.split()]\n"
   ]
  },
  {
   "cell_type": "code",
   "execution_count": 4,
   "metadata": {},
   "outputs": [
    {
     "name": "stdout",
     "output_type": "stream",
     "text": [
      "True\n",
      "True\n",
      "True\n",
      "True\n"
     ]
    }
   ],
   "source": [
    "print(get_ints(\"8,6,7,5,3\") == [8,6,7,5,3])\n",
    "print(get_ints(\" 57,23, 8, and 5 \") == [57,23,8,5])\n",
    "print(get_ints(\"1and2and 3\") == [1,2,3])\n",
    "print(get_ints(\"55,65 5\") == [55,65,5])"
   ]
  },
  {
   "cell_type": "markdown",
   "metadata": {},
   "source": [
    "# Problem 4"
   ]
  },
  {
   "cell_type": "code",
   "execution_count": 9,
   "metadata": {},
   "outputs": [],
   "source": [
    "import random\n",
    "\n",
    "def roll(sides,times):\n",
    "    \"\"\"Roll a die with `sides` sides (numbered 1...`sides`) a total \n",
    "    of `times` times, return the sum of the rolls.\n",
    "    \"\"\"\n",
    "    sum = 0 # Running sum of the rolls so far\n",
    "    for i in range(times):\n",
    "        sum = sum + random.randint(1,sides);\n",
    "    return sum"
   ]
  },
  {
   "cell_type": "code",
   "execution_count": 14,
   "metadata": {},
   "outputs": [
    {
     "data": {
      "text/plain": [
       "11"
      ]
     },
     "execution_count": 14,
     "metadata": {},
     "output_type": "execute_result"
    }
   ],
   "source": [
    "# 3 rolls of a 6-sided die\n",
    "roll(6,3)"
   ]
  },
  {
   "cell_type": "markdown",
   "metadata": {},
   "source": [
    "# Problem 5"
   ]
  },
  {
   "cell_type": "code",
   "execution_count": 5,
   "metadata": {},
   "outputs": [],
   "source": [
    "import random\n",
    "\n",
    "def wait_time(n=7):\n",
    "    \"\"\"Roll two 6-sided dice until sum is `n`.\n",
    "    Return the total number of rolls.\n",
    "    \"\"\"\n",
    "    rolls = 0\n",
    "    while True:\n",
    "        sum = random.randint(1,6) + random.randint(1,6)\n",
    "        rolls = rolls + 1\n",
    "        if sum == n:\n",
    "            return rolls\n"
   ]
  },
  {
   "cell_type": "code",
   "execution_count": 8,
   "metadata": {},
   "outputs": [
    {
     "data": {
      "text/plain": [
       "5"
      ]
     },
     "execution_count": 8,
     "metadata": {},
     "output_type": "execute_result"
    }
   ],
   "source": [
    "# Sample usage\n",
    "wait_time(11)"
   ]
  },
  {
   "cell_type": "markdown",
   "metadata": {},
   "source": [
    "# Problem 6"
   ]
  },
  {
   "cell_type": "code",
   "execution_count": 116,
   "metadata": {},
   "outputs": [],
   "source": [
    "# Note: this is a script and won't function properly in a REPL or a notebook environment.\n",
    "\n",
    "\"\"\"\n",
    "Take command line arguments as keys, insert these keys into a dictionary and\n",
    "associates a value consisting of a tuple of the index of the argument and the\n",
    "length of the key.  Then print the dictionary.\n",
    "\"\"\"\n",
    "\n",
    "import sys\n",
    "\n",
    "d = dict()\n",
    "for i,arg in enumerate(sys.argv[1:]):  # [1:] starts with first arg after script name\n",
    "    d[arg] = (i,len(arg))\n",
    "print(d)\n"
   ]
  }
 ],
 "metadata": {
  "kernelspec": {
   "display_name": "Python 3",
   "language": "python",
   "name": "python3"
  },
  "language_info": {
   "codemirror_mode": {
    "name": "ipython",
    "version": 3
   },
   "file_extension": ".py",
   "mimetype": "text/x-python",
   "name": "python",
   "nbconvert_exporter": "python",
   "pygments_lexer": "ipython3",
   "version": "3.8.2"
  }
 },
 "nbformat": 4,
 "nbformat_minor": 2
}
