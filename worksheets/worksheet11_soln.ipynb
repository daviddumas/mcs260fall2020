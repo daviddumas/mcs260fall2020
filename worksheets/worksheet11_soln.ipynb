{
 "cells": [
  {
   "cell_type": "code",
   "execution_count": 1,
   "metadata": {},
   "outputs": [],
   "source": [
    "# Worksheet 11 Problem 1\n",
    "import re\n",
    "\n",
    "def nonick(s):\n",
    "    \"\"\"\n",
    "    Replace all instances of dave or Dave with David using a regex\n",
    "    \"\"\"\n",
    "    return re.sub(\"[Dd]ave\",\"David\",s)"
   ]
  },
  {
   "cell_type": "code",
   "execution_count": 4,
   "metadata": {},
   "outputs": [
    {
     "name": "stdout",
     "output_type": "stream",
     "text": [
      "Test case 1:\n",
      "Input: we just got the assignment from dave\n",
      "Output:   we just got the assignment from David\n",
      "Expected: we just got the assignment from David\n",
      "--  Test passed.  --\n",
      "\n",
      "Test case 2:\n",
      "Input: Dave just sent us the scores, and apparently Dave thought everyone deserved 100%.\n",
      "Output:   David just sent us the scores, and apparently David thought everyone deserved 100%.\n",
      "Expected: David just sent us the scores, and apparently David thought everyone deserved 100%.\n",
      "--  Test passed.  --\n"
     ]
    }
   ],
   "source": [
    "in_str = \"we just got the assignment from dave\"\n",
    "expected_out_str = \"we just got the assignment from David\"\n",
    "\n",
    "out_str = nonick(in_str)\n",
    "print(\"Test case 1:\")\n",
    "print(\"Input:\",in_str)\n",
    "print(\"Output:  \",out_str)\n",
    "print(\"Expected:\",expected_out_str)\n",
    "if out_str == expected_out_str:\n",
    "    print(\"--  Test passed.  --\")\n",
    "else:\n",
    "    print(\"-- Test FAILED.  --\")\n",
    "print()    \n",
    "\n",
    "in_str = \"Dave just sent us the scores, and apparently Dave thought everyone deserved 100%.\"\n",
    "expected_out_str = \"David just sent us the scores, and apparently David thought everyone deserved 100%.\"\n",
    "\n",
    "out_str = nonick(in_str)\n",
    "print(\"Test case 2:\")\n",
    "print(\"Input:\",in_str)\n",
    "print(\"Output:  \",out_str)\n",
    "print(\"Expected:\",expected_out_str)\n",
    "if out_str == expected_out_str:\n",
    "    print(\"--  Test passed.  --\")\n",
    "else:\n",
    "    print(\"-- Test FAILED.  --\")\n"
   ]
  },
  {
   "cell_type": "code",
   "execution_count": null,
   "metadata": {},
   "outputs": [],
   "source": [
    "# Worksheet 11 Problem 2\n",
    "\"\"\"\n",
    "Read a file (name given at command line) line by line and prints words that contain \"gry\" in any case form\n",
    "\"\"\"\n",
    "import re\n",
    "import sys\n",
    "fname = sys.argv[1]\n",
    "f = open(fname,'r')\n",
    "for line in f:\n",
    "    for match in re.finditer(r\"[A-Za-z]*[gG][rR][yY][A-Za-z]*\",line):\n",
    "        print(match.group())\n"
   ]
  }
 ],
 "metadata": {
  "kernelspec": {
   "display_name": "Python 3",
   "language": "python",
   "name": "python3"
  },
  "language_info": {
   "codemirror_mode": {
    "name": "ipython",
    "version": 3
   },
   "file_extension": ".py",
   "mimetype": "text/x-python",
   "name": "python",
   "nbconvert_exporter": "python",
   "pygments_lexer": "ipython3",
   "version": "3.6.9"
  }
 },
 "nbformat": 4,
 "nbformat_minor": 4
}
