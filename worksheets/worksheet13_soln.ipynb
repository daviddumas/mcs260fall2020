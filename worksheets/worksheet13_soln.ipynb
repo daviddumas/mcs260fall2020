{
 "cells": [
  {
   "cell_type": "markdown",
   "metadata": {},
   "source": [
    "# Worksheet 13 solutions\n",
    "\n",
    "## MCS 260 Fall 2020"
   ]
  },
  {
   "cell_type": "markdown",
   "metadata": {},
   "source": [
    "## Problem 1\n",
    "\n",
    "**This problem doesn't involve material from last week's lectures, but it prepares you for the next ones.**\n",
    "\n",
    "Imagine you are writing a program that will distribute a limited resource, such as access to computers to perform calculations.  You must make sure that you don't overcommit the resource.\n",
    "\n",
    "One way to do this is to hand out tickets that are redeemable for resources, and to make sure there is a limited supply of tickets.\n",
    "\n",
    "Create something like this as follows.\n",
    "\n",
    "First, make a global list variable `tickets` that contains 10 integers.  Choose these integers yourself, using any method you like.  Just make sure they are all different.\n",
    "\n",
    "Now, write a function `get_ticket()` that, when called, will remove and return an integer from `tickets`, if the list is nonempty.  But if the list is empty, your function should raise `Exception(\"No tickets available\")`\n",
    "\n",
    "Below is some test code that you could append to your script to test the operation of the `get_ticket()` function."
   ]
  },
  {
   "cell_type": "markdown",
   "metadata": {},
   "source": [
    "## Problem 1 solution"
   ]
  },
  {
   "cell_type": "code",
   "execution_count": 2,
   "metadata": {},
   "outputs": [
    {
     "name": "stdout",
     "output_type": "stream",
     "text": [
      "Ticket request 1 yielded 29\n",
      "Ticket request 2 yielded 23\n",
      "Ticket request 3 yielded 19\n",
      "Ticket request 4 yielded 17\n",
      "Ticket request 5 yielded 13\n",
      "Ticket request 6 yielded 11\n",
      "Ticket request 7 yielded 7\n",
      "Ticket request 8 yielded 5\n",
      "Ticket request 9 yielded 3\n",
      "Ticket request 10 yielded 2\n",
      "Requesting another ticket.  THIS SHOULD FAIL...\n"
     ]
    },
    {
     "ename": "Exception",
     "evalue": "No tickets available",
     "output_type": "error",
     "traceback": [
      "\u001b[0;31m---------------------------------------------------------------------------\u001b[0m",
      "\u001b[0;31mException\u001b[0m                                 Traceback (most recent call last)",
      "\u001b[0;32m<ipython-input-2-4a9cf4d0b8e8>\u001b[0m in \u001b[0;36m<module>\u001b[0;34m\u001b[0m\n\u001b[1;32m     14\u001b[0m \u001b[0;34m\u001b[0m\u001b[0m\n\u001b[1;32m     15\u001b[0m \u001b[0mprint\u001b[0m\u001b[0;34m(\u001b[0m\u001b[0;34m\"Requesting another ticket.  THIS SHOULD FAIL...\"\u001b[0m\u001b[0;34m)\u001b[0m\u001b[0;34m\u001b[0m\u001b[0;34m\u001b[0m\u001b[0m\n\u001b[0;32m---> 16\u001b[0;31m \u001b[0mget_ticket\u001b[0m\u001b[0;34m(\u001b[0m\u001b[0;34m)\u001b[0m\u001b[0;34m\u001b[0m\u001b[0;34m\u001b[0m\u001b[0m\n\u001b[0m",
      "\u001b[0;32m<ipython-input-2-4a9cf4d0b8e8>\u001b[0m in \u001b[0;36mget_ticket\u001b[0;34m()\u001b[0m\n\u001b[1;32m      8\u001b[0m         \u001b[0;32mreturn\u001b[0m \u001b[0mvariables\u001b[0m\u001b[0;34m.\u001b[0m\u001b[0mpop\u001b[0m\u001b[0;34m(\u001b[0m\u001b[0;34m)\u001b[0m\u001b[0;34m\u001b[0m\u001b[0;34m\u001b[0m\u001b[0m\n\u001b[1;32m      9\u001b[0m     \u001b[0;32melse\u001b[0m\u001b[0;34m:\u001b[0m\u001b[0;34m\u001b[0m\u001b[0;34m\u001b[0m\u001b[0m\n\u001b[0;32m---> 10\u001b[0;31m         \u001b[0;32mraise\u001b[0m \u001b[0mException\u001b[0m\u001b[0;34m(\u001b[0m\u001b[0;34m\"No tickets available\"\u001b[0m\u001b[0;34m)\u001b[0m\u001b[0;34m\u001b[0m\u001b[0;34m\u001b[0m\u001b[0m\n\u001b[0m\u001b[1;32m     11\u001b[0m \u001b[0;34m\u001b[0m\u001b[0m\n\u001b[1;32m     12\u001b[0m \u001b[0;32mfor\u001b[0m \u001b[0mi\u001b[0m \u001b[0;32min\u001b[0m \u001b[0mrange\u001b[0m\u001b[0;34m(\u001b[0m\u001b[0;36m10\u001b[0m\u001b[0;34m)\u001b[0m\u001b[0;34m:\u001b[0m\u001b[0;34m\u001b[0m\u001b[0;34m\u001b[0m\u001b[0m\n",
      "\u001b[0;31mException\u001b[0m: No tickets available"
     ]
    }
   ],
   "source": [
    "\"\"\"Worksheet 13 problem 1 solution\"\"\"\n",
    "\n",
    "variables = [2, 3, 5, 7, 11, 13, 17, 19, 23, 29]\n",
    "\n",
    "def get_ticket():\n",
    "    \"\"\"Return a ticket if one is available\"\"\"\n",
    "    if len(variables) > 0:\n",
    "        return variables.pop()\n",
    "    else:\n",
    "        raise Exception(\"No tickets available\")\n",
    "\n",
    "# The code above is the solution\n",
    "# The code below is the test code included in the worksheet\n",
    "        \n",
    "for i in range(10):\n",
    "    print(\"Ticket request {} yielded {}\".format(i+1,get_ticket()))\n",
    "\n",
    "print(\"Requesting another ticket.  THIS SHOULD FAIL...\")\n",
    "get_ticket()"
   ]
  },
  {
   "cell_type": "markdown",
   "metadata": {},
   "source": [
    "## Problem 2\n",
    "\n",
    "**This problem builds on problem 1 and prepares for problem 3.**\n",
    "\n",
    "Building on the code you created in the previous problem, write an API with Flask so that when it runs on your computer, accessing\n",
    "\n",
    "```\n",
    "http://localhost:5000/ticket\n",
    "```\n",
    "\n",
    "will attempt to get a ticket and return JSON as follows:\n",
    "\n",
    "* If a ticket was available, the JSON object looks like\n",
    "```\n",
    "{ \"success\": true, \"ticket_number\": 2602020 }\n",
    "```\n",
    "\n",
    "* If no tickets were available, the JSON object looks like\n",
    "```\n",
    "{ \"success\": false }\n",
    "```\n",
    "\n",
    "Test the API by visiting `http://localhost:5000/ticket` in a web browser on your computer and reloading at least 10 times."
   ]
  },
  {
   "cell_type": "markdown",
   "metadata": {},
   "source": [
    "## Problem 2 solution"
   ]
  },
  {
   "cell_type": "code",
   "execution_count": null,
   "metadata": {},
   "outputs": [],
   "source": [
    "\"\"\"Worksheet 13 problem 2 solution\"\"\"\n",
    "import flask\n",
    "import json\n",
    "\n",
    "variables = [2, 3, 5, 7, 11, 13, 17, 19, 23, 29]\n",
    "\n",
    "def get_ticket():\n",
    "    \"\"\"Return a ticket if one is available\"\"\"\n",
    "    if len(variables) > 0:\n",
    "        return variables.pop()\n",
    "    else:\n",
    "        raise Exception(\"No tickets available\")\n",
    "\n",
    "app = flask.Flask(\"MCS260_WS13_PROB2\")\n",
    "\n",
    "@app.route(\"/ticket\")\n",
    "def ticket_route():\n",
    "    \"\"\"Return ticket data or failure message as JSON\"\"\"\n",
    "    try:\n",
    "        ticket = get_ticket()\n",
    "        return flask.jsonify({\"success\": True, \"ticket_number\": ticket})\n",
    "    except Exception:\n",
    "        return flask.jsonify({\"success\": False})\n",
    "    \n",
    "app.run(port=5000)"
   ]
  },
  {
   "cell_type": "markdown",
   "metadata": {},
   "source": [
    "## Problem 3\n",
    "\n",
    "Building on problem 2, write a program that uses `urllib` to connect to the API you created, request a ticket, and either print the ticket number or an error message.\n",
    "\n",
    "Call your program `get_ticket.py`.  Before testing it, restart the API from problem 2.  If your program is working correctly, then running it in the terminal should produce output similar to the following:\n",
    "\n",
    "* First time it is run\n",
    "```\n",
    "PS C:\\Users\\ddumas\\Desktop\\> python get_ticket.py\n",
    "Success.  Got ticket 8675310.\n",
    "```\n",
    "\n",
    "* Eleventh time it is run (assuming you don't restart the API server)\n",
    "```\n",
    "PS C:\\Users\\ddumas\\Desktop\\> python get_ticket.py\n",
    "Failed to get a ticket from the API.\n",
    "```\n",
    "\n",
    "It's probably a good idea to have two powershell windows open here, or two terminals in VS code, or one of each.  That will allow you to manage running the API and the program that calls the API."
   ]
  },
  {
   "cell_type": "code",
   "execution_count": null,
   "metadata": {},
   "outputs": [],
   "source": [
    "\"\"\"Worksheet 13 problem 3\"\"\"\n",
    "import urllib.request\n",
    "import json\n",
    "# Get a ticket from the problem 2 API\n",
    "# Print ticket or failure message\n",
    "\n",
    "url = \"http://localhost:5000/ticket\"\n",
    "\n",
    "# Make the request and get a result object\n",
    "res = urllib.request.urlopen(url)\n",
    "\n",
    "# Decode JSON\n",
    "data = json.loads(res.read())\n",
    "\n",
    "if data[\"success\"]:\n",
    "    print(\"Success. Got ticket {}.\".format(data[\"ticket_number\"]))\n",
    "else:\n",
    "    print(\"Failed to get a ticket from the API.\")\n"
   ]
  }
 ],
 "metadata": {
  "kernelspec": {
   "display_name": "Python 3",
   "language": "python",
   "name": "python3"
  },
  "language_info": {
   "codemirror_mode": {
    "name": "ipython",
    "version": 3
   },
   "file_extension": ".py",
   "mimetype": "text/x-python",
   "name": "python",
   "nbconvert_exporter": "python",
   "pygments_lexer": "ipython3",
   "version": "3.8.5"
  }
 },
 "nbformat": 4,
 "nbformat_minor": 4
}
